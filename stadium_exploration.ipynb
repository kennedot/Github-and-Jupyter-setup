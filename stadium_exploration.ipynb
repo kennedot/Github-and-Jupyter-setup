{
  "cells": [
    {
      "cell_type": "markdown",
      "metadata": {
        "id": "view-in-github",
        "colab_type": "text"
      },
      "source": [
        "<a href=\"https://colab.research.google.com/github/kennedot/Github-and-Jupyter-setup/blob/main/stadium_exploration.ipynb\" target=\"_parent\"><img src=\"https://colab.research.google.com/assets/colab-badge.svg\" alt=\"Open In Colab\"/></a>"
      ]
    },
    {
      "cell_type": "markdown",
      "metadata": {
        "id": "eSfsQ-gu8fA9"
      },
      "source": [
        "## Data Collection\n",
        "\n",
        "In this assignment, you'll work through another example of extracting data from a web page.\n",
        "\n",
        "We'll start by importing some libraries."
      ]
    },
    {
      "cell_type": "code",
      "execution_count": 1,
      "metadata": {
        "id": "iRwvBTGN8fA_"
      },
      "outputs": [],
      "source": [
        "import pandas as pd\n",
        "\n",
        "# we'll use requests to read web pages\n",
        "import requests\n",
        "\n",
        "# StringIO is becoming the \"future\" for reading and writing\n",
        "# certain file types\n",
        "from io import StringIO"
      ]
    },
    {
      "cell_type": "markdown",
      "metadata": {
        "id": "0VtDqRm98fBA"
      },
      "source": [
        "## Before You Start\n",
        "You will see some lines of code that call the `assert` function. **DO NOT** change or update or delete the assert statements. `assert` tests to make sure your code is running properly. These statements can help you see if things are working correctly."
      ]
    },
    {
      "cell_type": "markdown",
      "metadata": {
        "id": "os01xRa58fBA"
      },
      "source": [
        "## Part 1: Web Scraping\n",
        "Boston College plays home football games in its Alumni Stadium. Many BC fans think think this is a big stadium as it can seat 44,500 people. That's a lot of people, but it's nowhere near the largest in the world. You may know that Michigan Stadium, also known as \"The Big House\", is tha largest stadium in the United States with a capacty of 107,601. Big, indeed.  \n",
        "\n",
        "Like so many things, Wikipedia has a [page](https://en.wikipedia.org/wiki/List_of_stadiums_by_capacity) dedicated to the largest stadiums in the world. You'll see some interesting things on that page. In fact, the data may be counter to your initial expectations.\n",
        "\n",
        "1. The largest stadium in the world is Narenda Modi, a cricket ground in India. Cricket is enormously popular in countries that don't start with \"USA,\" so this might not be a surprise.\n",
        "\n",
        "2. Number 2 is Rungrado 1st of May Stadium in North Korea. The North Korean national football (American translation: soccer) team plays in this stadium. Football makes sense because of its even more enormous popularity around the globe. North Korea...that one you may not have guessed.\n",
        "\n",
        "3. Numbers 3-10 are all in the United States, and their tenants are...college football teams. Not NFL teams&mdash;*college* football teams. These stadiums are so big that they may have a larger capacity than the population of the college town they sit in.\n",
        "\n",
        "And that's a question we might want to explore. What is the ratio of a stadium's capacity to the population of its city? To study that, we need to turn this Wikipedia page into data we can analyze.\n"
      ]
    },
    {
      "cell_type": "markdown",
      "metadata": {
        "id": "7QUSo_ye8fBB"
      },
      "source": [
        "### Task 1: Scraping\n",
        "Let's start by grabbing the contents of the Wikipedia page.\n",
        "  \n",
        "1. Start my making a new variable called `wikipedia_URL`. Assign the following URL to that variable:     \n",
        "[https://en.wikipedia.org/wiki/List_of_stadiums_by_capacity](https://en.wikipedia.org/wiki/List_of_stadiums_by_capacity). Make sure the URL is a string (in quotes).   \n",
        "\n",
        "2. Use the Python function `requests.get()` to get the contents of the page. Use `wikipedia_URL` as the function's input value. Assign this to variable called `wikipedia_page`."
      ]
    },
    {
      "cell_type": "code",
      "execution_count": 26,
      "metadata": {
        "id": "kddApUiX8fBB"
      },
      "outputs": [],
      "source": [
        "## ASSIGN VALUES TO THE VARIABLES BELOW CODE HERE\n",
        "wikipedia_URL = \"https://web.archive.org/web/20240825234348/https://en.wikipedia.org/wiki/List_of_stadiums_by_capacity\"\n",
        "requests.get(wikipedia_URL)\n",
        "wikipedia_page = requests.get(wikipedia_URL)"
      ]
    },
    {
      "cell_type": "markdown",
      "metadata": {
        "id": "eN2eOX3w8fBB"
      },
      "source": [
        "### Task 2: Do We Have the Right Content?\n",
        "\n",
        "Let's make sure the text retrieved using `requests.get()` is correct by checking it's title. In HTML, titles are embedded between `<title>` and `</title>` markup tags. We're looking for the following line in all of the HTML text:\n",
        "\n",
        "> `<title>`List of stadiums by capacity - Wikipedia`</title>`\n",
        "\n",
        "First, remember that we can use `.text` to get the text that we retrieved to `wikipedia_page`. Try that below. Wait...just print the first 1000 characters unless you want to see **a lot** of HTML. You can slice the text string this way:\n",
        "\n",
        "> `... .text[0:1000]`"
      ]
    },
    {
      "cell_type": "code",
      "execution_count": 29,
      "metadata": {
        "id": "DjxthayPGJyf",
        "colab": {
          "base_uri": "https://localhost:8080/"
        },
        "outputId": "bbf74cff-83bc-4a80-e886-8d90fdc5f35a"
      },
      "outputs": [
        {
          "output_type": "stream",
          "name": "stdout",
          "text": [
            "<!DOCTYPE html>\n",
            "<html class=\"client-nojs vector-feature-language-in-header-enabled vector-feature-language-in-main-page-header-disabled vector-feature-sticky-header-disabled vector-feature-page-tools-pinned-disabled vector-feature-toc-pinned-clientpref-1 vector-feature-main-menu-pinned-disabled vector-feature-limited-width-clientpref-1 vector-feature-limited-width-content-enabled vector-feature-custom-font-size-clientpref-1 vector-feature-appearance-enabled vector-feature-appearance-pinned-clientpref-1 vector-feature-night-mode-enabled skin-theme-clientpref-day vector-toc-available\" lang=\"en\" dir=\"ltr\">\n",
            "<head><script type=\"text/javascript\" src=\"https://web-static.archive.org/_static/js/bundle-playback.js?v=FC38Hc5A\" charset=\"utf-8\"></script>\n",
            "<script type=\"text/javascript\" src=\"https://web-static.archive.org/_static/js/wombat.js?v=txqj7nKC\" charset=\"utf-8\"></script>\n",
            "<script>window.RufflePlayer=window.RufflePlayer||{};window.RufflePlayer.config={\"autoplay\":\"on\",\"unmuteOverlay\":\"hidden\",\"\n"
          ]
        }
      ],
      "source": [
        "# YOUR CODE HERE\n",
        "# print the first 1000 characters from the stadium page\n",
        "print(wikipedia_page.text[0:1000])"
      ]
    },
    {
      "cell_type": "markdown",
      "metadata": {
        "id": "moy-7MMzGJyf"
      },
      "source": [
        "Now let's see how to find the title of the page in this text. There are a few ways to look for the string. You'll learn about [regular expressions](https://www.oreilly.com/content/an-introduction-to-regular-expressions/) when you take the Intro to Python course. Regular expressions allow us to specify patterns to look for in a piece of text. In this case, we'd like to find the text between `<title>` and `</title>`. But we'll do this a simpler way for now.  \n",
        "\n",
        "Below is a function named `find_string_between`. It takes three strings as arguments:\n",
        "1. the_string: The complete string you want to search in\n",
        "2. beginning_substring: The beginning string to look for. The string you want to find is between this one and...\n",
        "3. end_substring: The end string.\n",
        "\n",
        "The function will return the text between the beginning_substring and end_substring. First, here's the definition."
      ]
    },
    {
      "cell_type": "code",
      "execution_count": 32,
      "metadata": {
        "id": "IXHAVS908fBC"
      },
      "outputs": [],
      "source": [
        "def find_string_between(the_string, beginning_substring, end_substring):\n",
        "  \"\"\"\n",
        "    Given a string, find a substring that's between two other substrings, beginning_substring\n",
        "    and end_substring.\n",
        "\n",
        "    Arguments:\n",
        "      the_string: The string you want to search\n",
        "      beginning_substring: the substring to start the search\n",
        "      end_substring: the substring that is the end boundary\n",
        "\n",
        "    Return:\n",
        "      the string between beginning_substring and end_substring OR \"\" if\n",
        "      nothing is found\n",
        "  \"\"\"\n",
        "  try:\n",
        "    # find the starting index. add the length of the begin substring to that\n",
        "    start = the_string.find(beginning_substring) + len(beginning_substring)\n",
        "\n",
        "    # get the ending index, where the end substring begins\n",
        "    end = the_string.find(end_substring, start)\n",
        "\n",
        "    # the text we're looking for is between start and end\n",
        "    return the_string[start:end]\n",
        "  except ValueError:\n",
        "    print(\"ValueError occured in find_string_between()\")\n",
        "    return \"\"\n",
        "\n"
      ]
    },
    {
      "cell_type": "markdown",
      "source": [
        "Here are some examples of how you'd use it."
      ],
      "metadata": {
        "id": "pt5CrYNaU10s"
      }
    },
    {
      "cell_type": "code",
      "source": [
        "# some test strings\n",
        "test_html_string = \"<!DOCTYPE html><html><head><title>Page Title</title></head><body><h1>This is a Heading</h1><p>This is a paragraph.</p></body></html>\"\n",
        "phone_number = \"(617) 867-5309\"\n",
        "medical_record = \"Patient's name: John Smith, Age: 30, Medication: Aspirin.\"\n",
        "\n",
        "\n",
        "# let's look for what's between <h1> and </h1>\n",
        "in_between_string = find_string_between(test_html_string, \"<h1>\", \"</h1>\")\n",
        "\n",
        "# grab the area code between the parentheses\n",
        "area_code = find_string_between(phone_number, '(', ')')\n",
        "\n",
        "# get the patient's name\n",
        "patient_name = find_string_between(medical_record, 'name:', ',')\n",
        "\n",
        "# Print the found strings\n",
        "print(\"Found text:\", in_between_string)\n",
        "print(\"Area code:\", area_code)\n",
        "print(\"Patient's name:\", patient_name)"
      ],
      "metadata": {
        "id": "fjOToHRSU2q0",
        "colab": {
          "base_uri": "https://localhost:8080/"
        },
        "outputId": "b3f0f362-829e-46a2-8203-02464df24318"
      },
      "execution_count": 33,
      "outputs": [
        {
          "output_type": "stream",
          "name": "stdout",
          "text": [
            "Found text: This is a Heading\n",
            "Area code: 617\n",
            "Patient's name:  John Smith\n"
          ]
        }
      ]
    },
    {
      "cell_type": "markdown",
      "source": [
        "You can use this on the wikipedia text to find the page's title. The title is in between the `<title>` and  </title>     substrings. Try it for yourself!"
      ],
      "metadata": {
        "id": "ybHIiR5RVKaa"
      }
    },
    {
      "cell_type": "code",
      "source": [
        "# call find_string_between with the wikipedia text and the title tags to get the page title\n",
        "# get the return value in a variable named page_title\n",
        "\n",
        "page_title = find_string_between(wikipedia_page.text, '<title>', '</title>')\n",
        "print(page_title)\n",
        "\n",
        "# you shouldn't see an error if the match worked\n",
        "assert page_title == \"List of stadiums by capacity - Wikipedia\", \"Incorrect string assigned to page_title\"\n",
        "assert type(page_title) == str, \"page_title should be a string\""
      ],
      "metadata": {
        "id": "nMXdZmc5VLw1",
        "colab": {
          "base_uri": "https://localhost:8080/"
        },
        "outputId": "b532df1c-04f9-4d5e-a3ad-b766558bd999"
      },
      "execution_count": 42,
      "outputs": [
        {
          "output_type": "stream",
          "name": "stdout",
          "text": [
            "List of stadiums by capacity - Wikipedia\n"
          ]
        }
      ]
    },
    {
      "cell_type": "markdown",
      "metadata": {
        "id": "QUwQTm8s8fBC"
      },
      "source": [
        "### Finding the Table\n",
        "We learned earlier that `pandas` has the function `read_html` to read tables from HTML text. It works just like `read_csv` and similar functions that you've used before. See if you can call the function and assign it's return value to `web_tables`."
      ]
    },
    {
      "cell_type": "code",
      "execution_count": 49,
      "metadata": {
        "id": "kyD-GhPy8fBC",
        "colab": {
          "base_uri": "https://localhost:8080/"
        },
        "outputId": "3f6f9197-e8ad-4313-a501-d9ddb4ef6a1f"
      },
      "outputs": [
        {
          "output_type": "stream",
          "name": "stdout",
          "text": [
            "read_html found 8 tables\n"
          ]
        }
      ],
      "source": [
        "web_tables = pd.read_html(StringIO(wikipedia_page.text))\n",
        "\n",
        "# print the statement below to see what we get\n",
        "print(\"read_html found\", len(web_tables), \"tables\")"
      ]
    },
    {
      "cell_type": "markdown",
      "metadata": {
        "id": "gbiSFnNoGJyg"
      },
      "source": [
        "Take a look at the [web page](https://en.wikipedia.org/wiki/List_of_stadiums_by_capacity). You'll see **multiple** tables with stadum information. The default for `read_html` is to find **all** tables on a page and return them in a list. Let's try to pick just one, the one containing stadiums with a capacity of 100,000 or more.  \n",
        "\n",
        "`read_html` has an argument named `match=` that we can use to specify a unique piece of a table if we only want one of many on a page. In the table with a capacty of 100,000 or more, we have several unique items. Let's use the name of one of the stadiums—Narendra Modi Stadium—in the `match=` argument to get that table.\n",
        "\n"
      ]
    },
    {
      "cell_type": "code",
      "execution_count": 52,
      "metadata": {
        "id": "9YXGwl8mGJyg",
        "colab": {
          "base_uri": "https://localhost:8080/"
        },
        "outputId": "70084b15-7e1e-4b59-dab8-b770f63179ee"
      },
      "outputs": [
        {
          "output_type": "stream",
          "name": "stdout",
          "text": [
            "read_html found 1 tables\n"
          ]
        }
      ],
      "source": [
        "web_tables = pd.read_html(StringIO(wikipedia_page.text), match= \"Narendra Modi\")  # replace the [] with your call to read_html using the text from Wikipedia\n",
        "\n",
        "# print the statement below to see what we get\n",
        "\n",
        "print(\"read_html found\", len(web_tables), \"tables\")\n",
        "\n",
        "# check the result\n",
        "assert len(web_tables) == 1"
      ]
    },
    {
      "cell_type": "markdown",
      "metadata": {
        "id": "bbPa0tEQGJyh"
      },
      "source": [
        "You should only have one table in the web_tables list. And that should be the one with stadiums with a capacity of 100,000 or more.  \n",
        "\n",
        "Make a new variable below called `over_100000_table`. Assign the table in `web_tables` to `over_100000_table`. Then check the head of the `DataFrame` to see if it looks familiar."
      ]
    },
    {
      "cell_type": "code",
      "execution_count": 58,
      "metadata": {
        "id": "vkFVxNgbGJyh"
      },
      "outputs": [],
      "source": [
        "over_100000_table = web_tables[0] # get the table from web_tables\n",
        "\n",
        "# check the head below"
      ]
    },
    {
      "cell_type": "code",
      "execution_count": 59,
      "metadata": {
        "id": "RLM17kzv8fBD"
      },
      "outputs": [],
      "source": [
        "# Some asserts to make sure the code is working as expected.\n",
        "assert isinstance(over_100000_table, pd.DataFrame)"
      ]
    },
    {
      "cell_type": "markdown",
      "metadata": {
        "id": "yI725AqP8fBH"
      },
      "source": [
        "### Grabbing all of the tables\n",
        "We started by grabbing one table containing stadiums with a capacity over 100,000. Now let's go back and grab all of the tables containing stadium data.   \n",
        "\n",
        "In fact, we'll use \"Stadium\" as a unique identifier. Only tables with stadium data should have that word in their headers."
      ]
    },
    {
      "cell_type": "code",
      "execution_count": 60,
      "metadata": {
        "id": "xQq_c6PK8fBH",
        "colab": {
          "base_uri": "https://localhost:8080/"
        },
        "outputId": "1161ab2c-ba23-491c-f5be-4deb7f334fb5"
      },
      "outputs": [
        {
          "output_type": "stream",
          "name": "stdout",
          "text": [
            "read_html found 7 tables\n"
          ]
        }
      ],
      "source": [
        "web_tables = pd.read_html(StringIO(wikipedia_page.text), match= \"Stadium\")  # Insert your code to get tables with a \"Stadium\" match\n",
        "\n",
        "# print the length of all_tables\n",
        "print(\"read_html found\", len(web_tables), \"tables\")\n",
        "\n",
        "# checking the resulr\n",
        "assert len(web_tables) == 7"
      ]
    },
    {
      "cell_type": "markdown",
      "metadata": {
        "id": "tec0MHKu8fBH"
      },
      "source": [
        "We have 7 tables. You can check that by hand/eye on the [stadium web page](https://en.wikipedia.org/wiki/List_of_stadiums_by_capacity). We can also make sure that each of these tables has the same number of columns: That'll be important when we try to join them into a single table of stadium data."
      ]
    },
    {
      "cell_type": "code",
      "execution_count": 61,
      "metadata": {
        "id": "L_bRpSoT8fBH",
        "colab": {
          "base_uri": "https://localhost:8080/"
        },
        "outputId": "3bbf594f-2c26-4c38-e2a3-8ab486540b3e"
      },
      "outputs": [
        {
          "output_type": "stream",
          "name": "stdout",
          "text": [
            "Number of rows in table 0 = 8\n",
            "Number of rows in table 1 = 8\n",
            "Number of rows in table 2 = 8\n",
            "Number of rows in table 3 = 7\n",
            "Number of rows in table 4 = 7\n",
            "Number of rows in table 5 = 7\n",
            "Number of rows in table 6 = 7\n"
          ]
        }
      ],
      "source": [
        "for index, table in enumerate(web_tables):\n",
        "    number_columns = len(table.columns)\n",
        "    print(\"Number of rows in table\", index, \"=\", number_columns)"
      ]
    },
    {
      "cell_type": "markdown",
      "metadata": {
        "id": "2vfZ6uK6GJyi"
      },
      "source": [
        "Unfortunately, we don't have the same number of columns in every table. Can you tell which column is missing in the last four tables?  \n",
        "\n",
        "But we can try to merge, or concatenate, the tables despite the missing column. Let's do that in two steps:\n",
        "\n",
        "1. Use `pd.concat()` to concatenate the seven tables.\n",
        "2. Each table has it's own index. After doing the concatenation, call `reset_index()` so we get a single index for all the data. And include `drop=True` so `pandas` doesn't keep the old indices."
      ]
    },
    {
      "cell_type": "code",
      "execution_count": 63,
      "metadata": {
        "id": "rHV4EQ2EGJyi",
        "colab": {
          "base_uri": "https://localhost:8080/"
        },
        "outputId": "849d59e0-28d3-42d6-8d82-4ac5366a2b80"
      },
      "outputs": [
        {
          "output_type": "execute_result",
          "data": {
            "text/plain": [
              "(537, 8)"
            ]
          },
          "metadata": {},
          "execution_count": 63
        }
      ],
      "source": [
        "# concatenate the tables\n",
        "stadium_data = pd.concat(web_tables)\n",
        "\"\"\n",
        "# reset the index on the new table\n",
        "stadium_data = stadium_data.reset_index(drop=True)\n",
        "\n",
        "# and let's look at the number of rows and columns\n",
        "stadium_data.shape"
      ]
    },
    {
      "cell_type": "code",
      "execution_count": 64,
      "metadata": {
        "id": "M8NDbhIfGJyi"
      },
      "outputs": [],
      "source": [
        "# checking that we have the corrent number of columns\n",
        "assert stadium_data.shape[0] == 537"
      ]
    },
    {
      "cell_type": "markdown",
      "metadata": {
        "id": "FJvfWxbd8fBJ"
      },
      "source": [
        "Let's look at the last few entries in `stadium_data`. Compare these with the final entries in the [last Wikipedia table](https://en.wikipedia.org/wiki/List_of_stadiums_by_capacity#Capacity_of_40,000–50,000)...they should be the same."
      ]
    },
    {
      "cell_type": "code",
      "execution_count": 66,
      "metadata": {
        "id": "v9ahFavr8fBJ",
        "colab": {
          "base_uri": "https://localhost:8080/",
          "height": 206
        },
        "outputId": "f39b1352-500a-4785-b443-ed89cf0593da"
      },
      "outputs": [
        {
          "output_type": "execute_result",
          "data": {
            "text/plain": [
              "                                         Stadium     Capacity City (state)  \\\n",
              "532                               Xining Stadium        40000       Xining   \n",
              "533    Shaoxing China Textile City Sports Center        40000     Shaoxing   \n",
              "534                 Anqing Sports Centre Stadium        40000       Anqing   \n",
              "535  Monumental Stadium of Caracas Simón Bolívar        40000      Caracas   \n",
              "536                                Kardinia Park  40,000[155]      Geelong   \n",
              "\n",
              "       Country         Region                             Tenants  \\\n",
              "532      China      East Asia                local football teams   \n",
              "533      China      East Asia                                 NaN   \n",
              "534      China      East Asia                                 NaN   \n",
              "535  Venezuela  South America                  Leones del Caracas   \n",
              "536  Australia        Oceania  Geelong Cats, Melbourne Renegades*   \n",
              "\n",
              "                               Sport(s)  Image  \n",
              "532                Association football    NaN  \n",
              "533                           Athletics    NaN  \n",
              "534                           Athletics    NaN  \n",
              "535                            Baseball    NaN  \n",
              "536  Cricket, Australian rules football    NaN  "
            ],
            "text/html": [
              "\n",
              "  <div id=\"df-7709a888-2338-4fa2-96db-a2025cbaa14e\" class=\"colab-df-container\">\n",
              "    <div>\n",
              "<style scoped>\n",
              "    .dataframe tbody tr th:only-of-type {\n",
              "        vertical-align: middle;\n",
              "    }\n",
              "\n",
              "    .dataframe tbody tr th {\n",
              "        vertical-align: top;\n",
              "    }\n",
              "\n",
              "    .dataframe thead th {\n",
              "        text-align: right;\n",
              "    }\n",
              "</style>\n",
              "<table border=\"1\" class=\"dataframe\">\n",
              "  <thead>\n",
              "    <tr style=\"text-align: right;\">\n",
              "      <th></th>\n",
              "      <th>Stadium</th>\n",
              "      <th>Capacity</th>\n",
              "      <th>City (state)</th>\n",
              "      <th>Country</th>\n",
              "      <th>Region</th>\n",
              "      <th>Tenants</th>\n",
              "      <th>Sport(s)</th>\n",
              "      <th>Image</th>\n",
              "    </tr>\n",
              "  </thead>\n",
              "  <tbody>\n",
              "    <tr>\n",
              "      <th>532</th>\n",
              "      <td>Xining Stadium</td>\n",
              "      <td>40000</td>\n",
              "      <td>Xining</td>\n",
              "      <td>China</td>\n",
              "      <td>East Asia</td>\n",
              "      <td>local football teams</td>\n",
              "      <td>Association football</td>\n",
              "      <td>NaN</td>\n",
              "    </tr>\n",
              "    <tr>\n",
              "      <th>533</th>\n",
              "      <td>Shaoxing China Textile City Sports Center</td>\n",
              "      <td>40000</td>\n",
              "      <td>Shaoxing</td>\n",
              "      <td>China</td>\n",
              "      <td>East Asia</td>\n",
              "      <td>NaN</td>\n",
              "      <td>Athletics</td>\n",
              "      <td>NaN</td>\n",
              "    </tr>\n",
              "    <tr>\n",
              "      <th>534</th>\n",
              "      <td>Anqing Sports Centre Stadium</td>\n",
              "      <td>40000</td>\n",
              "      <td>Anqing</td>\n",
              "      <td>China</td>\n",
              "      <td>East Asia</td>\n",
              "      <td>NaN</td>\n",
              "      <td>Athletics</td>\n",
              "      <td>NaN</td>\n",
              "    </tr>\n",
              "    <tr>\n",
              "      <th>535</th>\n",
              "      <td>Monumental Stadium of Caracas Simón Bolívar</td>\n",
              "      <td>40000</td>\n",
              "      <td>Caracas</td>\n",
              "      <td>Venezuela</td>\n",
              "      <td>South America</td>\n",
              "      <td>Leones del Caracas</td>\n",
              "      <td>Baseball</td>\n",
              "      <td>NaN</td>\n",
              "    </tr>\n",
              "    <tr>\n",
              "      <th>536</th>\n",
              "      <td>Kardinia Park</td>\n",
              "      <td>40,000[155]</td>\n",
              "      <td>Geelong</td>\n",
              "      <td>Australia</td>\n",
              "      <td>Oceania</td>\n",
              "      <td>Geelong Cats, Melbourne Renegades*</td>\n",
              "      <td>Cricket, Australian rules football</td>\n",
              "      <td>NaN</td>\n",
              "    </tr>\n",
              "  </tbody>\n",
              "</table>\n",
              "</div>\n",
              "    <div class=\"colab-df-buttons\">\n",
              "\n",
              "  <div class=\"colab-df-container\">\n",
              "    <button class=\"colab-df-convert\" onclick=\"convertToInteractive('df-7709a888-2338-4fa2-96db-a2025cbaa14e')\"\n",
              "            title=\"Convert this dataframe to an interactive table.\"\n",
              "            style=\"display:none;\">\n",
              "\n",
              "  <svg xmlns=\"http://www.w3.org/2000/svg\" height=\"24px\" viewBox=\"0 -960 960 960\">\n",
              "    <path d=\"M120-120v-720h720v720H120Zm60-500h600v-160H180v160Zm220 220h160v-160H400v160Zm0 220h160v-160H400v160ZM180-400h160v-160H180v160Zm440 0h160v-160H620v160ZM180-180h160v-160H180v160Zm440 0h160v-160H620v160Z\"/>\n",
              "  </svg>\n",
              "    </button>\n",
              "\n",
              "  <style>\n",
              "    .colab-df-container {\n",
              "      display:flex;\n",
              "      gap: 12px;\n",
              "    }\n",
              "\n",
              "    .colab-df-convert {\n",
              "      background-color: #E8F0FE;\n",
              "      border: none;\n",
              "      border-radius: 50%;\n",
              "      cursor: pointer;\n",
              "      display: none;\n",
              "      fill: #1967D2;\n",
              "      height: 32px;\n",
              "      padding: 0 0 0 0;\n",
              "      width: 32px;\n",
              "    }\n",
              "\n",
              "    .colab-df-convert:hover {\n",
              "      background-color: #E2EBFA;\n",
              "      box-shadow: 0px 1px 2px rgba(60, 64, 67, 0.3), 0px 1px 3px 1px rgba(60, 64, 67, 0.15);\n",
              "      fill: #174EA6;\n",
              "    }\n",
              "\n",
              "    .colab-df-buttons div {\n",
              "      margin-bottom: 4px;\n",
              "    }\n",
              "\n",
              "    [theme=dark] .colab-df-convert {\n",
              "      background-color: #3B4455;\n",
              "      fill: #D2E3FC;\n",
              "    }\n",
              "\n",
              "    [theme=dark] .colab-df-convert:hover {\n",
              "      background-color: #434B5C;\n",
              "      box-shadow: 0px 1px 3px 1px rgba(0, 0, 0, 0.15);\n",
              "      filter: drop-shadow(0px 1px 2px rgba(0, 0, 0, 0.3));\n",
              "      fill: #FFFFFF;\n",
              "    }\n",
              "  </style>\n",
              "\n",
              "    <script>\n",
              "      const buttonEl =\n",
              "        document.querySelector('#df-7709a888-2338-4fa2-96db-a2025cbaa14e button.colab-df-convert');\n",
              "      buttonEl.style.display =\n",
              "        google.colab.kernel.accessAllowed ? 'block' : 'none';\n",
              "\n",
              "      async function convertToInteractive(key) {\n",
              "        const element = document.querySelector('#df-7709a888-2338-4fa2-96db-a2025cbaa14e');\n",
              "        const dataTable =\n",
              "          await google.colab.kernel.invokeFunction('convertToInteractive',\n",
              "                                                    [key], {});\n",
              "        if (!dataTable) return;\n",
              "\n",
              "        const docLinkHtml = 'Like what you see? Visit the ' +\n",
              "          '<a target=\"_blank\" href=https://colab.research.google.com/notebooks/data_table.ipynb>data table notebook</a>'\n",
              "          + ' to learn more about interactive tables.';\n",
              "        element.innerHTML = '';\n",
              "        dataTable['output_type'] = 'display_data';\n",
              "        await google.colab.output.renderOutput(dataTable, element);\n",
              "        const docLink = document.createElement('div');\n",
              "        docLink.innerHTML = docLinkHtml;\n",
              "        element.appendChild(docLink);\n",
              "      }\n",
              "    </script>\n",
              "  </div>\n",
              "\n",
              "\n",
              "    <div id=\"df-63eaefd6-1486-4613-b6ff-5fe4660b5e3b\">\n",
              "      <button class=\"colab-df-quickchart\" onclick=\"quickchart('df-63eaefd6-1486-4613-b6ff-5fe4660b5e3b')\"\n",
              "                title=\"Suggest charts\"\n",
              "                style=\"display:none;\">\n",
              "\n",
              "<svg xmlns=\"http://www.w3.org/2000/svg\" height=\"24px\"viewBox=\"0 0 24 24\"\n",
              "     width=\"24px\">\n",
              "    <g>\n",
              "        <path d=\"M19 3H5c-1.1 0-2 .9-2 2v14c0 1.1.9 2 2 2h14c1.1 0 2-.9 2-2V5c0-1.1-.9-2-2-2zM9 17H7v-7h2v7zm4 0h-2V7h2v10zm4 0h-2v-4h2v4z\"/>\n",
              "    </g>\n",
              "</svg>\n",
              "      </button>\n",
              "\n",
              "<style>\n",
              "  .colab-df-quickchart {\n",
              "      --bg-color: #E8F0FE;\n",
              "      --fill-color: #1967D2;\n",
              "      --hover-bg-color: #E2EBFA;\n",
              "      --hover-fill-color: #174EA6;\n",
              "      --disabled-fill-color: #AAA;\n",
              "      --disabled-bg-color: #DDD;\n",
              "  }\n",
              "\n",
              "  [theme=dark] .colab-df-quickchart {\n",
              "      --bg-color: #3B4455;\n",
              "      --fill-color: #D2E3FC;\n",
              "      --hover-bg-color: #434B5C;\n",
              "      --hover-fill-color: #FFFFFF;\n",
              "      --disabled-bg-color: #3B4455;\n",
              "      --disabled-fill-color: #666;\n",
              "  }\n",
              "\n",
              "  .colab-df-quickchart {\n",
              "    background-color: var(--bg-color);\n",
              "    border: none;\n",
              "    border-radius: 50%;\n",
              "    cursor: pointer;\n",
              "    display: none;\n",
              "    fill: var(--fill-color);\n",
              "    height: 32px;\n",
              "    padding: 0;\n",
              "    width: 32px;\n",
              "  }\n",
              "\n",
              "  .colab-df-quickchart:hover {\n",
              "    background-color: var(--hover-bg-color);\n",
              "    box-shadow: 0 1px 2px rgba(60, 64, 67, 0.3), 0 1px 3px 1px rgba(60, 64, 67, 0.15);\n",
              "    fill: var(--button-hover-fill-color);\n",
              "  }\n",
              "\n",
              "  .colab-df-quickchart-complete:disabled,\n",
              "  .colab-df-quickchart-complete:disabled:hover {\n",
              "    background-color: var(--disabled-bg-color);\n",
              "    fill: var(--disabled-fill-color);\n",
              "    box-shadow: none;\n",
              "  }\n",
              "\n",
              "  .colab-df-spinner {\n",
              "    border: 2px solid var(--fill-color);\n",
              "    border-color: transparent;\n",
              "    border-bottom-color: var(--fill-color);\n",
              "    animation:\n",
              "      spin 1s steps(1) infinite;\n",
              "  }\n",
              "\n",
              "  @keyframes spin {\n",
              "    0% {\n",
              "      border-color: transparent;\n",
              "      border-bottom-color: var(--fill-color);\n",
              "      border-left-color: var(--fill-color);\n",
              "    }\n",
              "    20% {\n",
              "      border-color: transparent;\n",
              "      border-left-color: var(--fill-color);\n",
              "      border-top-color: var(--fill-color);\n",
              "    }\n",
              "    30% {\n",
              "      border-color: transparent;\n",
              "      border-left-color: var(--fill-color);\n",
              "      border-top-color: var(--fill-color);\n",
              "      border-right-color: var(--fill-color);\n",
              "    }\n",
              "    40% {\n",
              "      border-color: transparent;\n",
              "      border-right-color: var(--fill-color);\n",
              "      border-top-color: var(--fill-color);\n",
              "    }\n",
              "    60% {\n",
              "      border-color: transparent;\n",
              "      border-right-color: var(--fill-color);\n",
              "    }\n",
              "    80% {\n",
              "      border-color: transparent;\n",
              "      border-right-color: var(--fill-color);\n",
              "      border-bottom-color: var(--fill-color);\n",
              "    }\n",
              "    90% {\n",
              "      border-color: transparent;\n",
              "      border-bottom-color: var(--fill-color);\n",
              "    }\n",
              "  }\n",
              "</style>\n",
              "\n",
              "      <script>\n",
              "        async function quickchart(key) {\n",
              "          const quickchartButtonEl =\n",
              "            document.querySelector('#' + key + ' button');\n",
              "          quickchartButtonEl.disabled = true;  // To prevent multiple clicks.\n",
              "          quickchartButtonEl.classList.add('colab-df-spinner');\n",
              "          try {\n",
              "            const charts = await google.colab.kernel.invokeFunction(\n",
              "                'suggestCharts', [key], {});\n",
              "          } catch (error) {\n",
              "            console.error('Error during call to suggestCharts:', error);\n",
              "          }\n",
              "          quickchartButtonEl.classList.remove('colab-df-spinner');\n",
              "          quickchartButtonEl.classList.add('colab-df-quickchart-complete');\n",
              "        }\n",
              "        (() => {\n",
              "          let quickchartButtonEl =\n",
              "            document.querySelector('#df-63eaefd6-1486-4613-b6ff-5fe4660b5e3b button');\n",
              "          quickchartButtonEl.style.display =\n",
              "            google.colab.kernel.accessAllowed ? 'block' : 'none';\n",
              "        })();\n",
              "      </script>\n",
              "    </div>\n",
              "\n",
              "    </div>\n",
              "  </div>\n"
            ],
            "application/vnd.google.colaboratory.intrinsic+json": {
              "type": "dataframe",
              "summary": "{\n  \"name\": \"stadium_data\",\n  \"rows\": 5,\n  \"fields\": [\n    {\n      \"column\": \"Stadium\",\n      \"properties\": {\n        \"dtype\": \"string\",\n        \"num_unique_values\": 5,\n        \"samples\": [\n          \"Shaoxing China Textile City Sports Center\",\n          \"Kardinia Park\",\n          \"Anqing Sports Centre Stadium\"\n        ],\n        \"semantic_type\": \"\",\n        \"description\": \"\"\n      }\n    },\n    {\n      \"column\": \"Capacity\",\n      \"properties\": {\n        \"dtype\": \"category\",\n        \"num_unique_values\": 2,\n        \"samples\": [\n          \"40,000[155]\",\n          \"40000\"\n        ],\n        \"semantic_type\": \"\",\n        \"description\": \"\"\n      }\n    },\n    {\n      \"column\": \"City (state)\",\n      \"properties\": {\n        \"dtype\": \"string\",\n        \"num_unique_values\": 5,\n        \"samples\": [\n          \"Shaoxing\",\n          \"Geelong\"\n        ],\n        \"semantic_type\": \"\",\n        \"description\": \"\"\n      }\n    },\n    {\n      \"column\": \"Country\",\n      \"properties\": {\n        \"dtype\": \"string\",\n        \"num_unique_values\": 3,\n        \"samples\": [\n          \"China\",\n          \"Venezuela\"\n        ],\n        \"semantic_type\": \"\",\n        \"description\": \"\"\n      }\n    },\n    {\n      \"column\": \"Region\",\n      \"properties\": {\n        \"dtype\": \"string\",\n        \"num_unique_values\": 3,\n        \"samples\": [\n          \"East Asia\",\n          \"South America\"\n        ],\n        \"semantic_type\": \"\",\n        \"description\": \"\"\n      }\n    },\n    {\n      \"column\": \"Tenants\",\n      \"properties\": {\n        \"dtype\": \"string\",\n        \"num_unique_values\": 3,\n        \"samples\": [\n          \"local football teams\",\n          \"Leones del Caracas\"\n        ],\n        \"semantic_type\": \"\",\n        \"description\": \"\"\n      }\n    },\n    {\n      \"column\": \"Sport(s)\",\n      \"properties\": {\n        \"dtype\": \"string\",\n        \"num_unique_values\": 4,\n        \"samples\": [\n          \"Athletics\",\n          \"Cricket, Australian rules football\"\n        ],\n        \"semantic_type\": \"\",\n        \"description\": \"\"\n      }\n    },\n    {\n      \"column\": \"Image\",\n      \"properties\": {\n        \"dtype\": \"number\",\n        \"std\": null,\n        \"min\": null,\n        \"max\": null,\n        \"num_unique_values\": 0,\n        \"samples\": [],\n        \"semantic_type\": \"\",\n        \"description\": \"\"\n      }\n    }\n  ]\n}"
            }
          },
          "metadata": {},
          "execution_count": 66
        }
      ],
      "source": [
        "# Call tail() on the stadium data below\n",
        "stadium_data.tail()"
      ]
    },
    {
      "cell_type": "markdown",
      "source": [
        "Look closely at the data in each row. You should see a few unusual items:\n",
        "1. The capacity of Kardinia Park is \"40,000[155]\"\n",
        "2. Several rows contain values labeled \"NaN\"\n",
        "3. It looks like the Image column many contain lots of 'NaN'\n",
        "4. Kardinia Park also has multiple tenants and sports listed\n",
        "\n",
        "We're not going to touch these things yet&mdash;we'll wait until the next module on data cleaning to deal with these."
      ],
      "metadata": {
        "id": "4KqGQ5TsUva-"
      }
    },
    {
      "cell_type": "markdown",
      "metadata": {
        "id": "3qUr7CTo8fBJ"
      },
      "source": [
        "### Task 3: Saving the Data\n",
        "Everything looks good. Your final task is to save the table as a CSV file named `stadium_data.csv`. Remember how to do that?"
      ]
    },
    {
      "cell_type": "code",
      "execution_count": 68,
      "metadata": {
        "id": "C97w2gYn8fBK"
      },
      "outputs": [],
      "source": [
        "### YOUR CODE TO SAVE THE STADIUM_DATA HERE\n",
        "stadium_data.to_csv(\"stadium_data.csv\", index=False)"
      ]
    },
    {
      "cell_type": "code",
      "execution_count": 69,
      "metadata": {
        "id": "aVEeRv1s8fBK"
      },
      "outputs": [],
      "source": [
        "## doing a check to see that the file has been written to the current directory\n",
        "import os\n",
        "assert os.path.exists(\"stadium_data.csv\"), \"File named stadium_data.csv is not in the current directory.\""
      ]
    },
    {
      "cell_type": "markdown",
      "metadata": {
        "id": "wLSM3jZrGJyj"
      },
      "source": [
        "### Task 4: What about arenas?\n",
        "You successfully crawled the Wikipedia page to get stadium data. But do these include **all** sporting venues? Of course not.  \n",
        "\n",
        "Your next task is to crawl Wikipedia's [List of sports venues by capacity](https://en.wikipedia.org/wiki/List_of_sports_venues_by_capacity). Open the page, grab the table, and read it into a `DataFrame` named `venues_df`."
      ]
    },
    {
      "cell_type": "code",
      "execution_count": 71,
      "metadata": {
        "id": "-b-3WErNGJyj",
        "colab": {
          "base_uri": "https://localhost:8080/",
          "height": 34
        },
        "outputId": "06745772-08c8-4f39-87e3-ba71f9298cd1"
      },
      "outputs": [
        {
          "output_type": "display_data",
          "data": {
            "text/plain": [
              "(583, 7)"
            ]
          },
          "metadata": {}
        }
      ],
      "source": [
        "venues_URL = \"https://web.archive.org/web/20240719185824/https://en.wikipedia.org/wiki/List_of_sports_venues_by_capacity\"\n",
        "venues_page = requests.get(venues_URL) # use requests.get to open the URL\n",
        "\n",
        "# read the venues_page's tables into vanue_tables.\n",
        "\n",
        "venue_tables = pd.read_html(StringIO(venues_page.text), match= \"Capacity\")\n",
        "\n",
        "venues_df = venue_tables[0] # YOUR CODE HERE TO GET THE FIRST TABLE\n",
        "\n",
        "# call shape below to see the size of the DataFrame\n",
        "display(venues_df.shape)"
      ]
    },
    {
      "cell_type": "code",
      "execution_count": null,
      "metadata": {
        "id": "vRgX4p52GJyk"
      },
      "outputs": [],
      "source": [
        "assert venues_df.shape[0] == 583"
      ]
    },
    {
      "cell_type": "markdown",
      "metadata": {
        "id": "FvnLiWn0GJyk"
      },
      "source": [
        "### Done!\n",
        "You successdully crawled Wikipedia pages and pulled the stadium and venue data! You may have noticed along the way that some of the data in the `DataFrame`s look...well, odd. We'll come back to the data in the next module on data cleaning.\n",
        "\n",
        "Only thing left for you to do is to submit the completed Notebook to the Canvas site."
      ]
    }
  ],
  "metadata": {
    "colab": {
      "provenance": [],
      "include_colab_link": true
    },
    "kernelspec": {
      "display_name": "cgms",
      "language": "python",
      "name": "python3"
    },
    "language_info": {
      "codemirror_mode": {
        "name": "ipython",
        "version": 3
      },
      "file_extension": ".py",
      "mimetype": "text/x-python",
      "name": "python",
      "nbconvert_exporter": "python",
      "pygments_lexer": "ipython3",
      "version": "3.12.4"
    }
  },
  "nbformat": 4,
  "nbformat_minor": 0
}